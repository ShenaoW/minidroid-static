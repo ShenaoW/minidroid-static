{
 "cells": [
  {
   "cell_type": "code",
   "execution_count": 1,
   "metadata": {},
   "outputs": [],
   "source": [
    "from pdg_js.build_pdg import get_data_flow\n",
    "from pdg_js.js_operators import get_node_computed_value\n",
    "import config as config \n",
    "\n",
    "\n",
    "def check_page_compliance(r, scopes:set, sensi_apis:set, flag_navigate:bool, url:str):\n",
    "    scopes, sensi_apis, flag_navigate, url = find_page_methods_node(r, scopes, sensi_apis, flag_navigate, url)\n",
    "    if len(scopes) > 1 or len(sensi_apis) > 1:\n",
    "        print(\"存在一揽子授权行为, 相关权限/api包括: \", end=' ')\n",
    "        print(scopes, end=' ')\n",
    "        print(sensi_apis)\n",
    "    elif len(scopes) == 1 and len(sensi_apis) == 1:\n",
    "        print(\"存在启动即弹窗授权, 相关权限/api包括: \", end=' ')\n",
    "        print(scopes, end=' ')\n",
    "        print(sensi_apis)\n",
    "    if flag_navigate:\n",
    "        print(\"存在强制索权行为, 强制索权页面为: \", end=' ')\n",
    "        print(url)\n",
    "\n",
    "\n",
    "def find_page_methods_node(r, scopes:set, sensi_apis:set, flag_navigate:bool, url:str):\n",
    "    for child in r.children:\n",
    "        if child.name == \"ExpressionStatement\":\n",
    "            if len(child.children) > 0 \\\n",
    "                    and child.children[0].name == \"CallExpression\" \\\n",
    "                    and child.children[0].children[0].attributes[\"name\"] == \"Page\":\n",
    "                # found page expression\n",
    "                for method_node in child.children[0].children[1].children:  # method_node: Property\n",
    "                    if method_node.attributes[\"value\"][\"type\"] == \"FunctionExpression\":\n",
    "                        # handle node\n",
    "                        method_name = method_node.children[0].attributes['name']\n",
    "                        print(f\"[page method] got page method, method name: {method_name}\")\n",
    "                        if method_name == \"onLoad\":\n",
    "                            scopes, sensi_apis, flag_navigate, url = check_compliance(method_node, scopes, sensi_apis, flag_navigate, url)\n",
    "    return scopes, sensi_apis, flag_navigate, url\n",
    "\n",
    "\n",
    "def check_compliance(method_node, scopes:set, sensi_apis:set, flag_navigate:bool, url:str):\n",
    "    for child in method_node.children:\n",
    "        if child.name in ('CallExpression', 'TaggedTemplateExpression'):\n",
    "            if len(child.children) > 0 and child.children[0].body in ('callee', 'tag'):\n",
    "                callee = child.children[0]\n",
    "                call_expr_value = get_node_computed_value(callee)\n",
    "                call_expr_value_all = get_node_computed_value(child)\n",
    "                child.set_value(call_expr_value_all)\n",
    "                if call_expr_value == 'wx.authorize':\n",
    "                    scopes = check_authorize_scopes(child, scopes)\n",
    "                    flag_navigate, url = check_fail_callback(child, flag_navigate, url)\n",
    "                elif call_expr_value in config.SENSITIVE_API:\n",
    "                    sensi_apis.add(call_expr_value)\n",
    "        scopes, sensi_apis, flag_navigate, url = check_compliance(child, scopes, sensi_apis, flag_navigate, url)\n",
    "    return scopes, sensi_apis, flag_navigate, url\n",
    "\n",
    "\n",
    "def check_authorize_scopes(child, scopes: set()):\n",
    "    obj_exp = child.children[1]\n",
    "    for prop in obj_exp.children:\n",
    "        if get_node_computed_value(prop.children[0]) == 'scope':\n",
    "            scope = get_node_computed_value(prop.children[1])\n",
    "            scopes.add(scope)\n",
    "    return  scopes\n",
    "\n",
    "\n",
    "def check_fail_callback(child, flag_navigate, url):\n",
    "    obj_exp = child.children[1]\n",
    "    for prop in obj_exp.children:\n",
    "        if get_node_computed_value(prop.children[0]) == 'fail':\n",
    "            flag_navigate, url = check_if_navigate(prop, flag_navigate, url)\n",
    "    return flag_navigate, url\n",
    "\n",
    "\n",
    "def check_if_navigate(child, flag_navigate, url):\n",
    "    for child in child.children:\n",
    "        if child.name in ('CallExpression', 'TaggedTemplateExpression'):\n",
    "           if len(child.children) > 0 and child.children[0].body in ('callee', 'tag'):\n",
    "                callee = child.children[0]\n",
    "                call_expr_value = get_node_computed_value(callee)\n",
    "                if call_expr_value == 'wx.navigateTo':\n",
    "                    obj_exp = child.children[1]\n",
    "                    for prop in obj_exp.children:\n",
    "                        flag_navigate = True\n",
    "                        url = get_node_computed_value(prop.children[1])\n",
    "        flag_navigate, url = check_if_navigate(child, flag_navigate, url)\n",
    "    return flag_navigate, url\n"
   ]
  },
  {
   "attachments": {},
   "cell_type": "markdown",
   "metadata": {},
   "source": [
    "##### Case1: 启动即弹窗授权"
   ]
  },
  {
   "cell_type": "code",
   "execution_count": 2,
   "metadata": {},
   "outputs": [
    {
     "name": "stdout",
     "output_type": "stream",
     "text": [
      "CURRENT STATE Successfully got Esprima AST in 0.10683443769812584s\n",
      "CURRENT STATE Successfully produced the AST in 0.0016973093152046204s\n",
      "CURRENT STATE Successfully produced the CFG in 0.05273934919387102s\n",
      "CURRENT STATE Successfully produced the PDG in 0.050686669535934925s\n",
      "[page method] got page method, method name: onLoad\n",
      "存在启动即弹窗授权, 相关权限/api包括:  {'scope.userLocation'} {'wx.getLocation'}\n"
     ]
    }
   ],
   "source": [
    "pdg_node = get_data_flow(input_file=\"testcase/case1.js\", benchmarks={}, save_path_pdg=\"testcase/case1/pdg\", \\\n",
    "                         save_path_ast=\"testcase/case1/ast\", save_path_cfg=\"testcase/case1/cfg\")\n",
    "check_page_compliance(pdg_node, scopes=set(), sensi_apis=set(), flag_navigate = False, url='')"
   ]
  },
  {
   "attachments": {},
   "cell_type": "markdown",
   "metadata": {},
   "source": [
    "##### Case2: 一揽子授权"
   ]
  },
  {
   "cell_type": "code",
   "execution_count": 3,
   "metadata": {},
   "outputs": [
    {
     "name": "stdout",
     "output_type": "stream",
     "text": [
      "CURRENT STATE Successfully got Esprima AST in 0.1086621405556798s\n",
      "CURRENT STATE Successfully produced the AST in 0.0013032695278525352s\n",
      "CURRENT STATE Successfully produced the CFG in 0.00023468676954507828s\n",
      "CURRENT STATE Successfully produced the PDG in 0.0011695045977830887s\n",
      "[page method] got page method, method name: onLoad\n",
      "存在一揽子授权行为, 相关权限/api包括:  {'scope.bluetooth', 'scope.camera'} {'wx.openBluetoothAdapter', 'wx.createCameraContext'}\n"
     ]
    }
   ],
   "source": [
    "pdg_node = get_data_flow(input_file=\"testcase/case2.js\", benchmarks={}, save_path_pdg=\"testcase/case2/pdg\")\n",
    "check_page_compliance(pdg_node, scopes=set(), sensi_apis=set(), flag_navigate = False, url='')"
   ]
  },
  {
   "attachments": {},
   "cell_type": "markdown",
   "metadata": {},
   "source": [
    "##### Case3: 强制索权"
   ]
  },
  {
   "cell_type": "code",
   "execution_count": 4,
   "metadata": {},
   "outputs": [
    {
     "name": "stdout",
     "output_type": "stream",
     "text": [
      "CURRENT STATE Successfully got Esprima AST in 0.10671781469136477s\n",
      "CURRENT STATE Successfully produced the AST in 0.0011067120358347893s\n",
      "CURRENT STATE Successfully produced the CFG in 0.0002650078386068344s\n",
      "CURRENT STATE Successfully produced the PDG in 0.0017657224088907242s\n",
      "[page method] got page method, method name: onLoad\n",
      "存在启动即弹窗授权, 相关权限/api包括:  {'scope.userLocation'} {'wx.getLocation'}\n",
      "存在强制索权行为, 强制索权页面为:  pages/authorize/authorize\n"
     ]
    }
   ],
   "source": [
    "pdg_node = get_data_flow(input_file=\"testcase/case3.js\", benchmarks={}, save_path_pdg=\"testcase/case3/pdg\")\n",
    "check_page_compliance(pdg_node, scopes=set(), sensi_apis=set(), flag_navigate = False, url='')"
   ]
  }
 ],
 "metadata": {
  "kernelspec": {
   "display_name": "base",
   "language": "python",
   "name": "python3"
  },
  "language_info": {
   "codemirror_mode": {
    "name": "ipython",
    "version": 3
   },
   "file_extension": ".py",
   "mimetype": "text/x-python",
   "name": "python",
   "nbconvert_exporter": "python",
   "pygments_lexer": "ipython3",
   "version": "3.10.6"
  },
  "orig_nbformat": 4,
  "vscode": {
   "interpreter": {
    "hash": "88279d2366fe020547cde40dd65aa0e3aa662a6ec1f3ca12d88834876c85e1a6"
   }
  }
 },
 "nbformat": 4,
 "nbformat_minor": 2
}
