{
 "cells": [
  {
   "cell_type": "code",
   "execution_count": 2,
   "metadata": {},
   "outputs": [],
   "source": [
    "import os\n",
    "import json\n",
    "\n",
    "res_dir = '/root/minidroid/result/sensi_apis'\n",
    "all_res = {}\n",
    "for file in os.listdir(res_dir):\n",
    "    with open(os.path.join(res_dir, file), 'r') as fp:\n",
    "        data = json.load(fp)\n",
    "    all_res[file.replace('.json', '')] = data"
   ]
  },
  {
   "cell_type": "code",
   "execution_count": 4,
   "metadata": {},
   "outputs": [
    {
     "name": "stdout",
     "output_type": "stream",
     "text": [
      "13172\n"
     ]
    }
   ],
   "source": [
    "import pprint\n",
    "sensi_apis_count = {}\n",
    "reachable_sensi_apis_count = {}\n",
    "unreachable_sensi_apis_count = {}\n",
    "\n",
    "for res in all_res.values():\n",
    "    for page in res.keys():\n",
    "        apis = res[page]\n",
    "        for api in apis.keys():\n",
    "            if api not in sensi_apis_count.keys():\n",
    "                sensi_apis_count[api] = 1\n",
    "            else:\n",
    "                sensi_apis_count[api] += 1\n",
    "            if apis[api] is None:\n",
    "                if api not in unreachable_sensi_apis_count.keys():\n",
    "                    unreachable_sensi_apis_count[api] = 1\n",
    "                else:\n",
    "                    unreachable_sensi_apis_count[api] += 1\n",
    "            else:\n",
    "                if api not in reachable_sensi_apis_count.keys():\n",
    "                    reachable_sensi_apis_count[api] = 1\n",
    "                else:\n",
    "                    reachable_sensi_apis_count[api] += 1\n",
    "\n",
    "# pprint.pprint(sensi_apis_count)\n",
    "# pprint.pprint(reachable_sensi_apis_count)\n",
    "# pprint.pprint(unreachable_sensi_apis_count)\n",
    "\n",
    "counts = 0\n",
    "for count in unreachable_sensi_apis_count.values():\n",
    "    counts += count\n",
    "print(counts)\n"
   ]
  }
 ],
 "metadata": {
  "kernelspec": {
   "display_name": "Python 3",
   "language": "python",
   "name": "python3"
  },
  "language_info": {
   "codemirror_mode": {
    "name": "ipython",
    "version": 3
   },
   "file_extension": ".py",
   "mimetype": "text/x-python",
   "name": "python",
   "nbconvert_exporter": "python",
   "pygments_lexer": "ipython3",
   "version": "3.10.6"
  },
  "orig_nbformat": 4
 },
 "nbformat": 4,
 "nbformat_minor": 2
}
