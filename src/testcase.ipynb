{
 "cells": [
  {
   "cell_type": "code",
   "execution_count": 2,
   "metadata": {},
   "outputs": [
    {
     "name": "stderr",
     "output_type": "stream",
     "text": [
      "Warning: UTF-8 input uses non-Latin1 characters which cannot be handled by this PostScript driver\n"
     ]
    }
   ],
   "source": [
    "from pdg_js.build_pdg import get_data_flow\n",
    "from pdg_js.js_operators import get_node_computed_value\n",
    "import config as config \n",
    "\n",
    "def check_asyn_func_expr(node):\n",
    "    for child in node.children:\n",
    "        if child.name == 'IfStatement':\n",
    "            print('find if statement')\n",
    "        if child.name in ('CallExpression', 'TaggedTemplateExpression'):\n",
    "            if len(child.children) > 0 and child.children[0].body in ('callee', 'tag'):\n",
    "                callee = child.children[0]\n",
    "                call_expr_value = get_node_computed_value(callee)\n",
    "                if call_expr_value == 'wx.authorize' or call_expr_value in config.SENSITIVE_API:\n",
    "                    pass\n",
    "\n",
    "pdg_node = get_data_flow(input_file='testcase/case.js', benchmarks={}, save_path_pdg=\"testcase/case/pdg\")\n",
    "child = pdg_node.children[0].children[0]\n",
    "obj_exp = child.children[1]\n",
    "showCancel_value = True\n",
    "for prop in obj_exp.children:\n",
    "    if get_node_computed_value(prop.children[0]) == 'showCancel':\n",
    "        showCancel_value = get_node_computed_value(prop.children[1])\n",
    "    if get_node_computed_value(prop.children[0]) == 'success':\n",
    "        scopes = check_asyn_func_expr(prop.children[1])"
   ]
  },
  {
   "cell_type": "code",
   "execution_count": 16,
   "metadata": {},
   "outputs": [
    {
     "ename": "SyntaxError",
     "evalue": "invalid character '；' (U+FF1B) (3762106570.py, line 43)",
     "output_type": "error",
     "traceback": [
      "\u001b[0;36m  Cell \u001b[0;32mIn[16], line 43\u001b[0;36m\u001b[0m\n\u001b[0;31m    with open('/root/minidroid/dataset/comp_vios_result.json') as fp；\u001b[0m\n\u001b[0m                                                                    ^\u001b[0m\n\u001b[0;31mSyntaxError\u001b[0m\u001b[0;31m:\u001b[0m invalid character '；' (U+FF1B)\n"
     ]
    }
   ],
   "source": [
    "import os\n",
    "import json\n",
    "\n",
    "def handle_result_json():\n",
    "    result_jsons = []\n",
    "    compulsory_req = {}\n",
    "    blanket_reqs = {}\n",
    "    req_before_use = {}\n",
    "\n",
    "    for root, dirs, files in os.walk('/root/minidroid/dataset/comp_vios'):\n",
    "        for file in files:\n",
    "            result_jsons.append(os.path.join(root, file))\n",
    "    for result_json in result_jsons:\n",
    "        with open(result_json, mode='r') as fp:\n",
    "            data = json.load(fp)\n",
    "            # result_correction\n",
    "            for key1 in data.keys():\n",
    "                if data[key1] != None:\n",
    "                    for key2 in data[key1].keys():\n",
    "                        data[key1][key2] = list(set(data[key1][key2]))\n",
    "    fp.close()\n",
    "    for result_json in result_jsons:\n",
    "        with open(result_json, mode='w+') as fp:\n",
    "            json.dump(data, fp, indent=4)\n",
    "    fp.close()\n",
    "\n",
    "    for result_json in result_jsons:\n",
    "        with open(result_json) as fp:\n",
    "            data = json.load(fp)\n",
    "            # result_filter\n",
    "            if data['compulsory_req'] != None:\n",
    "                compulsory_req[result_json] = data['compulsory_req']\n",
    "            if data['req_before_use'] != None:\n",
    "                req_before_use[result_json] = data['req_before_use']\n",
    "            if data['blanket_reqs'] != None:\n",
    "                blanket_reqs[result_json] = data['blanket_reqs']\n",
    "    \n",
    "    result = {\n",
    "        'req_before_use': req_before_use,\n",
    "        'blanket_reqs': blanket_reqs,\n",
    "        'compulsory_req': compulsory_req\n",
    "    }\n",
    "    with open('/root/minidroid/dataset/comp_vios_result.json') as fp:\n",
    "        json.dump(result, fp, indent=4)\n",
    "\n",
    "handle_result_json()"
   ]
  }
 ],
 "metadata": {
  "kernelspec": {
   "display_name": "Python 3",
   "language": "python",
   "name": "python3"
  },
  "language_info": {
   "codemirror_mode": {
    "name": "ipython",
    "version": 3
   },
   "file_extension": ".py",
   "mimetype": "text/x-python",
   "name": "python",
   "nbconvert_exporter": "python",
   "pygments_lexer": "ipython3",
   "version": "3.10.6"
  },
  "orig_nbformat": 4
 },
 "nbformat": 4,
 "nbformat_minor": 2
}
